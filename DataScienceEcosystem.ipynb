{
 "cells": [
  {
   "cell_type": "markdown",
   "metadata": {
    "tags": []
   },
   "source": [
    "#### Add your code below following the instructions given in the course\n"
   ]
  },
  {
   "cell_type": "markdown",
   "metadata": {},
   "source": [
    "Data Science Tools and Ecosystem"
   ]
  },
  {
   "cell_type": "markdown",
   "metadata": {},
   "source": [
    "Data science tools and ecosystems are summarized in this notebook."
   ]
  },
  {
   "cell_type": "markdown",
   "metadata": {},
   "source": [
    "The popular languages that Data Scientists use are:\n",
    "1. Python\n",
    "2. R language\n",
    "3. SQL"
   ]
  },
  {
   "cell_type": "markdown",
   "metadata": {},
   "source": [
    "The commonly used libraries used by data scientists are: \n",
    "1. For python:\n",
    "- pandas\n",
    "- NumPy\n",
    "- Matplotlib\n",
    "2. For R language:\n",
    "- ggplot\n",
    "- Keras\n",
    "- TensorFlow\n",
    "3. For Scala:\n",
    "- Vegas\n",
    "- Big DI\n",
    "4. Apache Spark\n"
   ]
  },
  {
   "cell_type": "markdown",
   "metadata": {},
   "source": [
    "The popular Data Science tools are:\n",
    "\t1. Data management\n",
    "\t• RDBS: MySQL, MongoDB, hadoop\n",
    "\t2. Data integration and transformation\n",
    "\t• Apache airflow, kubeflow, apache kafka, \n",
    "    spark sql, node-red\n",
    "\t3. Data visualization\n",
    "\t• pixieDust,HUE(SQL), kibana, apache superset\n",
    "\t4. Model building\n",
    "\t• \n",
    "\t5. Model deployment\n",
    "\t• PredictionIO, seldon, mleap, tensorflow, openshift\n",
    "\t6. Model monitoring\n",
    "\t• ModelDB, Prometheus\n",
    "\t \n",
    "\t1. Code asset management: git, GitHub, GitLab, Bitbucket\n",
    "\t2. Data asset management: Apache Atlas, egeria, kylo\n",
    "\t3. Execution environment: Apache Spark, Flink, Ray\n",
    "\t4. Development environment: jupyter, apache zepplin,\n",
    "    Rstudio, spyder\n",
    "\t5. Fully integrated visual tools: Knime, orange\n",
    "\t\n",
    "\n",
    "Commercial tools for Data Science\n",
    "Data mangement: oracle database, SQLserver, ibm DB2\n",
    "Data integration and transformation: Informatica, talend, \n",
    "IBM infosphere DataStage\n",
    "Data visualization: tableau, IBM cognos analytics\n",
    "Model building: SPSS, sas\n",
    "Data asset management: informatica, IBM\n",
    "IDE, fully integrated visual tools: IBM watson studio\n",
    "\n",
    "\n",
    "Cloud based tools for Data Science\n",
    "\t1. Azure\n",
    "\t2. Watson studio\n",
    "\t3. H2O.ai\n"
   ]
  },
  {
   "cell_type": "markdown",
   "metadata": {},
   "source": [
    "We will look into evaluation of arithmetic expressions in python."
   ]
  },
  {
   "cell_type": "code",
   "execution_count": 2,
   "metadata": {
    "tags": []
   },
   "outputs": [
    {
     "name": "stdout",
     "output_type": "stream",
     "text": [
      "17\n"
     ]
    }
   ],
   "source": [
    "#This is a simple arithmetic expression to multiply then add integers\n",
    "a = (3*4) + 5\n",
    "print(a)"
   ]
  },
  {
   "cell_type": "code",
   "execution_count": 3,
   "metadata": {
    "tags": []
   },
   "outputs": [
    {
     "name": "stdout",
     "output_type": "stream",
     "text": [
      "200 minutes in hours is 3.3333333333333335\n"
     ]
    }
   ],
   "source": [
    "# A program to convert 200 minutes into hours, by dividing it by 60\n",
    "min = 200\n",
    "hour = 200/60\n",
    "print('200 minutes in hours is ' + str(hour))"
   ]
  },
  {
   "cell_type": "markdown",
   "metadata": {},
   "source": [
    "Objectives:\n",
    "- list of popular languages used by data scientists\n",
    "- List of commonly used tools by the data scientists\n",
    "- List of commonly used Libraries by data scientists\n",
    "- Using Jupyter notebooks\n"
   ]
  },
  {
   "cell_type": "markdown",
   "metadata": {},
   "source": [
    "Authors:\n",
    "S Varshini"
   ]
  }
 ],
 "metadata": {
  "kernelspec": {
   "display_name": "Python",
   "language": "python",
   "name": "conda-env-python-py"
  },
  "language_info": {
   "codemirror_mode": {
    "name": "ipython",
    "version": 3
   },
   "file_extension": ".py",
   "mimetype": "text/x-python",
   "name": "python",
   "nbconvert_exporter": "python",
   "pygments_lexer": "ipython3",
   "version": "3.7.12"
  }
 },
 "nbformat": 4,
 "nbformat_minor": 4
}
